{
 "cells": [
  {
   "cell_type": "markdown",
   "id": "d87ca7cc",
   "metadata": {},
   "source": [
    "### 배열의 생성"
   ]
  },
  {
   "cell_type": "code",
   "execution_count": 4,
   "id": "f5e4687f",
   "metadata": {},
   "outputs": [],
   "source": [
    "import numpy as np"
   ]
  },
  {
   "cell_type": "code",
   "execution_count": 5,
   "id": "a5f91857",
   "metadata": {},
   "outputs": [
    {
     "data": {
      "text/plain": [
       "array([[0.36595402, 0.46166289, 0.98755778],\n",
       "       [0.57589589, 0.71950136, 0.99525466]])"
      ]
     },
     "execution_count": 5,
     "metadata": {},
     "output_type": "execute_result"
    }
   ],
   "source": [
    "# 랜덤값으로 배열 생성하기\n",
    "# np.random.random(배열의 크기)\n",
    "# 0~1 사이의 값을 가지는 배열을 생성\n",
    "np.random.rand(2,3)"
   ]
  },
  {
   "cell_type": "code",
   "execution_count": 6,
   "id": "f461c679",
   "metadata": {},
   "outputs": [
    {
     "data": {
      "text/plain": [
       "array([[8, 2, 8],\n",
       "       [2, 4, 3]])"
      ]
     },
     "execution_count": 6,
     "metadata": {},
     "output_type": "execute_result"
    }
   ],
   "source": [
    "# 내가 원하는 범위만큼의 랜덤값 생성\n",
    "# np.random.randint(시작수, 끝수+1, size=배열의크기)\n",
    "np.random.randint(2,11, size=(2,3))\n"
   ]
  },
  {
   "cell_type": "code",
   "execution_count": 7,
   "id": "c45ab02a",
   "metadata": {},
   "outputs": [
    {
     "data": {
      "text/plain": [
       "array([[0.63347923, 0.70604692, 0.65269292, 0.71757931],\n",
       "       [0.82732308, 0.67165373, 0.48424116, 0.86115172],\n",
       "       [0.00644656, 0.63902198, 0.30862286, 0.94015901],\n",
       "       [0.4180796 , 0.28102254, 0.0577825 , 0.90597417],\n",
       "       [0.38945066, 0.38413544, 0.64541866, 0.91108519]])"
      ]
     },
     "execution_count": 7,
     "metadata": {},
     "output_type": "execute_result"
    }
   ],
   "source": [
    "# 2부터 10까지의 랜덤한 실수값으로 이루어진 (5,4)크기의 배열 생성\n",
    "# 정수+실수=실수\n",
    "float=np.random.rand(5,4)\n",
    "float"
   ]
  },
  {
   "cell_type": "code",
   "execution_count": 8,
   "id": "8b75f3ef",
   "metadata": {},
   "outputs": [
    {
     "data": {
      "text/plain": [
       "array([[5, 5, 5, 6],\n",
       "       [4, 4, 8, 6],\n",
       "       [5, 9, 7, 3],\n",
       "       [6, 4, 2, 2],\n",
       "       [9, 2, 4, 8]])"
      ]
     },
     "execution_count": 8,
     "metadata": {},
     "output_type": "execute_result"
    }
   ],
   "source": [
    "num=np.random.randint(2,10,size=(5,4))\n",
    "num"
   ]
  },
  {
   "cell_type": "code",
   "execution_count": 9,
   "id": "3b771194",
   "metadata": {},
   "outputs": [
    {
     "data": {
      "text/plain": [
       "array([[5.63347923, 5.70604692, 5.65269292, 6.71757931],\n",
       "       [4.82732308, 4.67165373, 8.48424116, 6.86115172],\n",
       "       [5.00644656, 9.63902198, 7.30862286, 3.94015901],\n",
       "       [6.4180796 , 4.28102254, 2.0577825 , 2.90597417],\n",
       "       [9.38945066, 2.38413544, 4.64541866, 8.91108519]])"
      ]
     },
     "execution_count": 9,
     "metadata": {},
     "output_type": "execute_result"
    }
   ],
   "source": [
    "result=num+float\n",
    "result"
   ]
  },
  {
   "cell_type": "code",
   "execution_count": 10,
   "id": "3bcd1263",
   "metadata": {},
   "outputs": [
    {
     "data": {
      "text/plain": [
       "array([[0, 0, 0, 0],\n",
       "       [0, 0, 0, 0],\n",
       "       [0, 0, 0, 0],\n",
       "       [0, 0, 0, 0],\n",
       "       [0, 0, 0, 0]])"
      ]
     },
     "execution_count": 10,
     "metadata": {},
     "output_type": "execute_result"
    }
   ],
   "source": [
    "# 타입 변경하기\n",
    "# asrtpe(변경할 타입)\n",
    "float.astype('int')"
   ]
  },
  {
   "cell_type": "markdown",
   "id": "7f17ac57",
   "metadata": {},
   "source": [
    "### 배열의 기능"
   ]
  },
  {
   "cell_type": "code",
   "execution_count": 11,
   "id": "02117efe",
   "metadata": {
    "scrolled": true
   },
   "outputs": [
    {
     "data": {
      "text/plain": [
       "array([[1, 2, 3],\n",
       "       [4, 5, 6]])"
      ]
     },
     "execution_count": 11,
     "metadata": {},
     "output_type": "execute_result"
    }
   ],
   "source": [
    "arr=np.array([[1,2,3],[4,5,6]])\n",
    "arr"
   ]
  },
  {
   "cell_type": "code",
   "execution_count": 12,
   "id": "08237032",
   "metadata": {},
   "outputs": [
    {
     "data": {
      "text/plain": [
       "array([1, 2, 3])"
      ]
     },
     "execution_count": 12,
     "metadata": {},
     "output_type": "execute_result"
    }
   ],
   "source": [
    "# 인덱싱\n",
    "# []\n",
    "# 2차원에서 0번째 출력\n",
    "arr[0]"
   ]
  },
  {
   "cell_type": "code",
   "execution_count": 13,
   "id": "c77314c6",
   "metadata": {},
   "outputs": [
    {
     "data": {
      "text/plain": [
       "2"
      ]
     },
     "execution_count": 13,
     "metadata": {},
     "output_type": "execute_result"
    }
   ],
   "source": [
    "arr[0,1]"
   ]
  },
  {
   "cell_type": "code",
   "execution_count": 14,
   "id": "98fba210",
   "metadata": {},
   "outputs": [
    {
     "data": {
      "text/plain": [
       "array([0, 1, 2, 3, 4, 5, 6, 7, 8, 9])"
      ]
     },
     "execution_count": 14,
     "metadata": {},
     "output_type": "execute_result"
    }
   ],
   "source": [
    "arr1=np.arange(10)\n",
    "arr1"
   ]
  },
  {
   "cell_type": "code",
   "execution_count": 15,
   "id": "4ed6e511",
   "metadata": {},
   "outputs": [
    {
     "data": {
      "text/plain": [
       "array([3, 4, 5, 6, 7])"
      ]
     },
     "execution_count": 15,
     "metadata": {},
     "output_type": "execute_result"
    }
   ],
   "source": [
    "arr1[3:8]"
   ]
  },
  {
   "cell_type": "code",
   "execution_count": 16,
   "id": "06d4a50d",
   "metadata": {},
   "outputs": [],
   "source": [
    "# 0~49 배열 출력"
   ]
  },
  {
   "cell_type": "code",
   "execution_count": 17,
   "id": "786d93e9",
   "metadata": {},
   "outputs": [
    {
     "data": {
      "text/plain": [
       "array([ 0,  1,  2,  3,  4,  5,  6,  7,  8,  9, 10, 11, 12, 13, 14, 15, 16,\n",
       "       17, 18, 19, 20, 21, 22, 23, 24, 25, 26, 27, 28, 29, 30, 31, 32, 33,\n",
       "       34, 35, 36, 37, 38, 39, 40, 41, 42, 43, 44, 45, 46, 47, 48, 49])"
      ]
     },
     "execution_count": 17,
     "metadata": {},
     "output_type": "execute_result"
    }
   ],
   "source": [
    "arr2=np.arange(50)\n",
    "arr2"
   ]
  },
  {
   "cell_type": "code",
   "execution_count": 22,
   "id": "b007d505",
   "metadata": {},
   "outputs": [],
   "source": [
    "# arr2를 (5,10)으로 재 배열하기\n",
    "# reshape\n",
    "# 바뀌기 전과 후의 데이터 수가 똑같아야함.\n",
    "# 출력을 진행하고 저장은 따로 진행하지 않음.\n",
    "# 저장하고 싶을 시 변수 생성 후 따로 저장해야함.\n",
    "arr3= arr2.reshape(5,10)"
   ]
  },
  {
   "cell_type": "code",
   "execution_count": 20,
   "id": "58056fb0",
   "metadata": {},
   "outputs": [
    {
     "data": {
      "text/plain": [
       "array([ 0,  1,  2,  3,  4,  5,  6,  7,  8,  9, 10, 11, 12, 13, 14, 15, 16,\n",
       "       17, 18, 19, 20, 21, 22, 23, 24, 25, 26, 27, 28, 29, 30, 31, 32, 33,\n",
       "       34, 35, 36, 37, 38, 39, 40, 41, 42, 43, 44, 45, 46, 47, 48, 49])"
      ]
     },
     "execution_count": 20,
     "metadata": {},
     "output_type": "execute_result"
    }
   ],
   "source": [
    "arr2"
   ]
  },
  {
   "cell_type": "code",
   "execution_count": 23,
   "id": "c1deb7da",
   "metadata": {},
   "outputs": [
    {
     "data": {
      "text/plain": [
       "array([[ 0,  1,  2,  3,  4,  5,  6,  7,  8,  9],\n",
       "       [10, 11, 12, 13, 14, 15, 16, 17, 18, 19],\n",
       "       [20, 21, 22, 23, 24, 25, 26, 27, 28, 29],\n",
       "       [30, 31, 32, 33, 34, 35, 36, 37, 38, 39],\n",
       "       [40, 41, 42, 43, 44, 45, 46, 47, 48, 49]])"
      ]
     },
     "execution_count": 23,
     "metadata": {},
     "output_type": "execute_result"
    }
   ],
   "source": [
    "arr3"
   ]
  },
  {
   "cell_type": "code",
   "execution_count": 31,
   "id": "1e11e92f",
   "metadata": {},
   "outputs": [
    {
     "data": {
      "text/plain": [
       "array([[ 0,  1,  2,  3,  4,  5,  6,  7,  8,  9],\n",
       "       [10, 11, 12, 13, 14, 15, 16, 17, 18, 19]])"
      ]
     },
     "execution_count": 31,
     "metadata": {},
     "output_type": "execute_result"
    }
   ],
   "source": [
    "# 2차원 슬라이싱\n",
    "arr3[0:2,0:10]"
   ]
  },
  {
   "cell_type": "code",
   "execution_count": null,
   "id": "f046a3ad",
   "metadata": {},
   "outputs": [],
   "source": [
    "#인덱싱 -> 첫번째 수 :  끝수 +1\n",
    "# : 끝수+1 = 처음부터 끝수까지\n",
    "# 시작수 : = 시작수부터 끝까지\n",
    "# : = 처음부터 끝까지"
   ]
  },
  {
   "cell_type": "code",
   "execution_count": 43,
   "id": "738024bb",
   "metadata": {},
   "outputs": [
    {
     "data": {
      "text/plain": [
       "array([[ 0],\n",
       "       [10],\n",
       "       [20],\n",
       "       [30],\n",
       "       [40]])"
      ]
     },
     "execution_count": 43,
     "metadata": {},
     "output_type": "execute_result"
    }
   ],
   "source": [
    "arr3[:5,0:1]"
   ]
  },
  {
   "cell_type": "code",
   "execution_count": 44,
   "id": "01c96b01",
   "metadata": {},
   "outputs": [
    {
     "data": {
      "text/plain": [
       "array([[ 0,  1,  2,  3,  4],\n",
       "       [10, 11, 12, 13, 14],\n",
       "       [20, 21, 22, 23, 24],\n",
       "       [30, 31, 32, 33, 34]])"
      ]
     },
     "execution_count": 44,
     "metadata": {},
     "output_type": "execute_result"
    }
   ],
   "source": [
    "arr3[:4,:5]"
   ]
  },
  {
   "cell_type": "code",
   "execution_count": 47,
   "id": "7657974e",
   "metadata": {},
   "outputs": [
    {
     "data": {
      "text/plain": [
       "array([[175.2, 180.3, 175. , 169.2, 185.2, 188. , 177.6, 178.2, 177. ,\n",
       "        179. ],\n",
       "       [ 65.6,  88. ,  79.2,  69.3,  55. ,  71.2,  73. ,  68.9,  74. ,\n",
       "         82. ]])"
      ]
     },
     "execution_count": 47,
     "metadata": {},
     "output_type": "execute_result"
    }
   ],
   "source": [
    "# 파일 불러오기\n",
    "data = np.loadtxt(\"height_weight.txt\",delimiter=',')\n",
    "data"
   ]
  },
  {
   "cell_type": "code",
   "execution_count": 91,
   "id": "47f38f54",
   "metadata": {},
   "outputs": [
    {
     "data": {
      "text/plain": [
       "array([21.37153104, 27.07018468, 25.86122449, 24.20652885, 16.03543423,\n",
       "       20.14486193, 23.14392095, 21.69720651, 23.62028791, 25.59220998])"
      ]
     },
     "execution_count": 91,
     "metadata": {},
     "output_type": "execute_result"
    }
   ],
   "source": [
    "#bmi 알아보는 문제 \n",
    "# 키_m = 키_cm/100\n",
    "# 몸무게 = data[1]\n",
    "# 몸무게 / (키_m * 키_m )\n",
    "result=data[1,0:]/((data[0,0:]**2)/10000)\n",
    "result"
   ]
  },
  {
   "cell_type": "markdown",
   "id": "7a8084be",
   "metadata": {},
   "source": [
    "# Boolean 인덱싱\n",
    "\n",
    "## True는 출력하고 False는 출력하지 않음\n",
    "\n",
    "## 인덱싱을 진행할때 값의 개수가 동일한 수의 불리언 데이터 필요\n",
    "\n",
    "## 원하는 조건에 맞는 값을 출력하는 방법\n"
   ]
  },
  {
   "cell_type": "code",
   "execution_count": 113,
   "id": "8fb831be",
   "metadata": {},
   "outputs": [
    {
     "data": {
      "text/plain": [
       "array([10, 20, 15, 30])"
      ]
     },
     "execution_count": 113,
     "metadata": {},
     "output_type": "execute_result"
    }
   ],
   "source": [
    "arr3=np.array([10,20,15,30])\n",
    "arr3"
   ]
  },
  {
   "cell_type": "code",
   "execution_count": 101,
   "id": "847f52cf",
   "metadata": {},
   "outputs": [
    {
     "data": {
      "text/plain": [
       "array([ True, False,  True, False])"
      ]
     },
     "execution_count": 101,
     "metadata": {},
     "output_type": "execute_result"
    }
   ],
   "source": [
    "bol = np.array([True,False,True,False])\n",
    "bol"
   ]
  },
  {
   "cell_type": "code",
   "execution_count": 102,
   "id": "c8b775ef",
   "metadata": {},
   "outputs": [
    {
     "data": {
      "text/plain": [
       "array([10, 15])"
      ]
     },
     "execution_count": 102,
     "metadata": {},
     "output_type": "execute_result"
    }
   ],
   "source": [
    "arr3[bol]"
   ]
  },
  {
   "cell_type": "code",
   "execution_count": 104,
   "id": "d46f2e86",
   "metadata": {},
   "outputs": [
    {
     "data": {
      "text/plain": [
       "array([10, 15])"
      ]
     },
     "execution_count": 104,
     "metadata": {},
     "output_type": "execute_result"
    }
   ],
   "source": [
    "arr3[arr3<17]"
   ]
  },
  {
   "cell_type": "markdown",
   "id": "90222881",
   "metadata": {},
   "source": [
    "#arr3 20인 값만 출력"
   ]
  },
  {
   "cell_type": "code",
   "execution_count": 112,
   "id": "98fb3615",
   "metadata": {},
   "outputs": [
    {
     "name": "stdout",
     "output_type": "stream",
     "text": [
      "[False  True False False]\n"
     ]
    },
    {
     "data": {
      "text/plain": [
       "array([20])"
      ]
     },
     "execution_count": 112,
     "metadata": {},
     "output_type": "execute_result"
    }
   ],
   "source": [
    "print(arr3==20)\n",
    "arr3[arr3==20]"
   ]
  },
  {
   "cell_type": "code",
   "execution_count": null,
   "id": "ab97961a",
   "metadata": {},
   "outputs": [],
   "source": [
    "# numpy에서 사용하는 연산 함수"
   ]
  },
  {
   "cell_type": "code",
   "execution_count": null,
   "id": "25e9e627",
   "metadata": {},
   "outputs": [],
   "source": [
    "# 1~9까지 랜덤한 정수가 담긴 2,5 크기의 배열 생성."
   ]
  },
  {
   "cell_type": "code",
   "execution_count": 116,
   "id": "8ecd80f4",
   "metadata": {},
   "outputs": [
    {
     "data": {
      "text/plain": [
       "array([[5, 1, 1, 9, 2],\n",
       "       [6, 5, 6, 6, 4]])"
      ]
     },
     "execution_count": 116,
     "metadata": {},
     "output_type": "execute_result"
    }
   ],
   "source": [
    "arr1=np.random.randint(1,10,size=(2,5))\n",
    "arr1"
   ]
  },
  {
   "cell_type": "code",
   "execution_count": null,
   "id": "8ee37d8d",
   "metadata": {},
   "outputs": [],
   "source": [
    "# 배열 안에 있는 값 더하기\n",
    "# np.sum (배열값, axis)"
   ]
  },
  {
   "cell_type": "code",
   "execution_count": 120,
   "id": "ba8f2de0",
   "metadata": {},
   "outputs": [
    {
     "data": {
      "text/plain": [
       "array([18, 27])"
      ]
     },
     "execution_count": 120,
     "metadata": {},
     "output_type": "execute_result"
    }
   ],
   "source": [
    "np.sum(arr1, axis=1)"
   ]
  },
  {
   "cell_type": "code",
   "execution_count": null,
   "id": "d7d0e94b",
   "metadata": {},
   "outputs": [],
   "source": [
    "# 배열 안에 있는 값의 평균\n",
    "# np,mean(배열값)"
   ]
  },
  {
   "cell_type": "code",
   "execution_count": 128,
   "id": "1821fb21",
   "metadata": {},
   "outputs": [
    {
     "data": {
      "text/plain": [
       "array([3.6, 5.4])"
      ]
     },
     "execution_count": 128,
     "metadata": {},
     "output_type": "execute_result"
    }
   ],
   "source": [
    "np.mean(arr1, axis=1)"
   ]
  },
  {
   "cell_type": "markdown",
   "id": "1e865294",
   "metadata": {},
   "source": [
    "## 영화 평점 데이터분석"
   ]
  },
  {
   "cell_type": "code",
   "execution_count": 131,
   "id": "5ee1e467",
   "metadata": {},
   "outputs": [
    {
     "data": {
      "text/plain": [
       "array([[        1,      1193,         5, 978300760],\n",
       "       [        1,       661,         3, 978302109],\n",
       "       [        1,       914,         3, 978301968],\n",
       "       ...,\n",
       "       [     6040,       562,         5, 956704746],\n",
       "       [     6040,      1096,         4, 956715648],\n",
       "       [     6040,      1097,         4, 956715569]])"
      ]
     },
     "execution_count": 131,
     "metadata": {},
     "output_type": "execute_result"
    }
   ],
   "source": [
    "# 데이터 타입 변경\n",
    "# dtype\n",
    "data = np.loadtxt('ratings.txt',delimiter=\"::\", dtype='int')\n",
    "data"
   ]
  },
  {
   "cell_type": "code",
   "execution_count": 132,
   "id": "157f2e1c",
   "metadata": {},
   "outputs": [],
   "source": [
    "# 1.전체 평점 구하기\n",
    "# 2. 각 사용자별 평점 평균 구하기\n",
    "# 3. 각 사용자별 평균 평점이 4점 이상인 사용자 구하기"
   ]
  },
  {
   "cell_type": "code",
   "execution_count": 138,
   "id": "9c5eb97e",
   "metadata": {},
   "outputs": [
    {
     "data": {
      "text/plain": [
       "3.581564453029317"
      ]
     },
     "execution_count": 138,
     "metadata": {},
     "output_type": "execute_result"
    }
   ],
   "source": [
    "# 1. 전체 평점 구하기\n",
    "np.mean(data[:,2])"
   ]
  },
  {
   "cell_type": "code",
   "execution_count": 179,
   "id": "fbe17f26",
   "metadata": {},
   "outputs": [
    {
     "data": {
      "text/plain": [
       "[[1, 4.188679245283019]]"
      ]
     },
     "execution_count": 179,
     "metadata": {},
     "output_type": "execute_result"
    }
   ],
   "source": [
    "# 리스트에 [사용자, 사용자의 평균]\n",
    "# 1번 사용자의 평점 평균 구하기 > 1~6040\n",
    "#data[:,0] 전체 정보에서 id값만 출력\n",
    "#전체 정보에서 id값이 1인 값만 출력\n",
    "user_list=[]\n",
    "user=data[data[:,0]==1]\n",
    "user_list.append( [1, np.mean(user[:,2])])\n",
    "user_list\n",
    "# 출력된 값에서 평점값만 추출한후 평균 구하기"
   ]
  },
  {
   "cell_type": "code",
   "execution_count": 190,
   "id": "7efb48f4",
   "metadata": {},
   "outputs": [],
   "source": [
    "# 2. 각 사용자별 평점 평균이 4점 이상인 사용자 구하기"
   ]
  }
 ],
 "metadata": {
  "kernelspec": {
   "display_name": "Python 3 (ipykernel)",
   "language": "python",
   "name": "python3"
  },
  "language_info": {
   "codemirror_mode": {
    "name": "ipython",
    "version": 3
   },
   "file_extension": ".py",
   "mimetype": "text/x-python",
   "name": "python",
   "nbconvert_exporter": "python",
   "pygments_lexer": "ipython3",
   "version": "3.9.7"
  }
 },
 "nbformat": 4,
 "nbformat_minor": 5
}
